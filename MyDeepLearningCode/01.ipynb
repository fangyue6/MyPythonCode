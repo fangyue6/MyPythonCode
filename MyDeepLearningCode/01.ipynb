{
 "cells": [
  {
   "cell_type": "code",
   "execution_count": 1,
   "metadata": {},
   "outputs": [],
   "source": [
    "#配置jupyter  https://www.cnblogs.com/faramita2016/p/7512471.html"
   ]
  },
  {
   "cell_type": "code",
   "execution_count": 43,
   "metadata": {},
   "outputs": [],
   "source": [
    "#https://zhuanlan.zhihu.com/p/39598080\n",
    "import numpy as np\n",
    "def sigmoid(x):\n",
    "    return 1 / (1 + np.exp(-x))\n",
    "\n",
    "def initialize_with_zeros(dim):\n",
    "    w = np.zeros((dim, 1))\n",
    "    b = 0.0\n",
    "    #assert(w.shape == (dim,1))\n",
    "    #assert(isinstance(b,float) or isinstance(b,int))\n",
    "    return w, b\n",
    "\n",
    "def propagate(w, b, X, Y):\n",
    "    m = X.shape[1]\n",
    "    A = sigmoid(np.dot(w.T, X) + b)\n",
    "    cost = -1/m * np.sum(Y*np.log(A) + (1-Y)*np.log(1-A))\n",
    "    dw = np.dot(X , (A-Y).T)/m\n",
    "    db = np.sum(A-Y)/m\n",
    "    assert(dw.shape == w.shape)\n",
    "    assert(dw.dtype == float)\n",
    "    cost = np.squeeze(cost)\n",
    "    assert(cost.shape ==())\n",
    "    grads = { 'dw':dw,\n",
    "              'db':db\n",
    "    }\n",
    "    return grads,cost\n",
    "\n",
    "def backward_propagation(w, b, X, Y, num_iterations, learning_rate, print_cost=False):\n",
    "    costs = []\n",
    "    for i in range(num_iterations):\n",
    "        grad,cost = propagate(w ,b, X, Y)\n",
    "        dw = grad['dw']\n",
    "        db = grad['db']\n",
    "        w = w - learning_rate * dw\n",
    "        b = b - learning_rate * db\n",
    "        if i%100 ==0:\n",
    "            costs.append(cost)\n",
    "        if print_cost and i%100 == 0:\n",
    "            print(\"cost after iteration %i:%f\" %(i,cost))\n",
    "    params = {\"w\":w,\n",
    "              \"b\":b\n",
    "    }\n",
    "    grads = { 'dw':dw,\n",
    "              'db':db\n",
    "    }\n",
    "    return params, grads, costs\n",
    "\n",
    "def predict(w, b, X):\n",
    "    m = X.shape[1]\n",
    "    Y_prediction = np.zeros((1,m))\n",
    "    w = w.reshape(X.shape[0],1)\n",
    "    A = sigmoid(np.dot(w.T, X)+b)\n",
    "    for i in range(A.shape[1]):\n",
    "        if A[:,i] > 0.5:\n",
    "            Y_prediction[:,i] = 1\n",
    "        else :\n",
    "            Y_prediction[:,i] = 0\n",
    "    assert(Y_prediction.shape == (1,m))\n",
    "    return Y_prediction\n",
    "\n",
    "def model(X_train, Y_train, X_test, Y_test, num_iterations = 2000, learning_rate = 0.5, print_cost = False):\n",
    "    # initialize parameters with zeros (≈ 1 line of code)\n",
    "    w, b = initialize_with_zeros(X_train.shape[0])    # Gradient descent (≈ 1 line of code)\n",
    "    parameters, grads, costs = backward_propagation(w, b, X_train, Y_train, num_iterations, learning_rate, print_cost)    # Retrieve parameters w and b from dictionary \"parameters\"\n",
    "    w = parameters[\"w\"]\n",
    "    b = parameters[\"b\"]    # Predict test/train set examples (≈ 2 lines of code)\n",
    "    Y_prediction_train = predict(w, b, X_train)\n",
    "    Y_prediction_test = predict(w, b, X_test)    # Print train/test Errors\n",
    "    print(\"train accuracy: {} %\".format(100 - np.mean(np.abs(Y_prediction_train - Y_train)) * 100))\n",
    "    print(\"test accuracy: {} %\".format(100 - np.mean(np.abs(Y_prediction_test - Y_test)) * 100))\n",
    "    d = {\"costs\": costs,        \n",
    "         \"Y_prediction_test\": Y_prediction_test, \n",
    "         \"Y_prediction_train\" : Y_prediction_train, \n",
    "         \"w\" : w, \n",
    "         \"b\" : b,         \n",
    "         \"learning_rate\" : learning_rate,\n",
    "         \"num_iterations\": num_iterations}    \n",
    "    return d"
   ]
  },
  {
   "cell_type": "code",
   "execution_count": 4,
   "metadata": {},
   "outputs": [],
   "source": [
    "from sklearn import datasets\n",
    "diabetes = datasets.load_diabetes()"
   ]
  },
  {
   "cell_type": "code",
   "execution_count": 30,
   "metadata": {},
   "outputs": [],
   "source": [
    "#print (diabetes.data)                                         #数据\n",
    "#print (diabetes.target)"
   ]
  },
  {
   "cell_type": "code",
   "execution_count": 6,
   "metadata": {},
   "outputs": [
    {
     "name": "stdout",
     "output_type": "stream",
     "text": [
      "152.13348416289594\n"
     ]
    }
   ],
   "source": [
    "print (np.mean(diabetes.target))"
   ]
  },
  {
   "cell_type": "code",
   "execution_count": 29,
   "metadata": {},
   "outputs": [
    {
     "name": "stdout",
     "output_type": "stream",
     "text": [
      "(442, 10) (442,)\n",
      "X_train.shape= (309, 10) Y_train.shape= (309,) ;X_test.shape= (133, 10) Y_test.shape= (133,)\n"
     ]
    }
   ],
   "source": [
    "X = diabetes.data\n",
    "ylen = diabetes.target.shape\n",
    "Y = np.zeros(ylen)\n",
    "Y[diabetes.target>=np.mean(diabetes.target)]=1\n",
    "print(X.shape,Y.shape)\n",
    "from sklearn.cross_validation import train_test_split\n",
    "#x为数据集的feature熟悉，y为label.\n",
    "X_train, X_test, Y_train, Y_test = train_test_split(X, Y, test_size = 0.3)\n",
    "print(\"X_train.shape=\",X_train.shape,\"Y_train.shape=\",Y_train.shape,\";X_test.shape=\",X_test.shape,\"Y_test.shape=\",Y_test.shape)"
   ]
  },
  {
   "cell_type": "code",
   "execution_count": 56,
   "metadata": {},
   "outputs": [
    {
     "name": "stdout",
     "output_type": "stream",
     "text": [
      "cost after iteration 0:0.693147\n",
      "cost after iteration 100:0.664216\n",
      "cost after iteration 200:0.641552\n",
      "cost after iteration 300:0.622914\n",
      "cost after iteration 400:0.607453\n",
      "cost after iteration 500:0.594504\n",
      "cost after iteration 600:0.583552\n",
      "cost after iteration 700:0.574199\n",
      "cost after iteration 800:0.566137\n",
      "cost after iteration 900:0.559124\n",
      "cost after iteration 1000:0.552973\n",
      "cost after iteration 1100:0.547534\n",
      "cost after iteration 1200:0.542689\n",
      "cost after iteration 1300:0.538345\n",
      "cost after iteration 1400:0.534424\n",
      "cost after iteration 1500:0.530865\n",
      "cost after iteration 1600:0.527616\n",
      "cost after iteration 1700:0.524637\n",
      "cost after iteration 1800:0.521893\n",
      "cost after iteration 1900:0.519355\n",
      "train accuracy: 75.08090614886731 %\n",
      "test accuracy: 72.18045112781955 %\n"
     ]
    }
   ],
   "source": [
    "d = model(X_train.T, Y_train, X_test.T, Y_test, num_iterations = 2000, learning_rate = 0.5, print_cost = True)\n",
    "#print(d)"
   ]
  },
  {
   "cell_type": "code",
   "execution_count": null,
   "metadata": {},
   "outputs": [],
   "source": []
  }
 ],
 "metadata": {
  "kernelspec": {
   "display_name": "Python 3",
   "language": "python",
   "name": "python3"
  },
  "language_info": {
   "codemirror_mode": {
    "name": "ipython",
    "version": 3
   },
   "file_extension": ".py",
   "mimetype": "text/x-python",
   "name": "python",
   "nbconvert_exporter": "python",
   "pygments_lexer": "ipython3",
   "version": "3.6.5"
  }
 },
 "nbformat": 4,
 "nbformat_minor": 2
}
